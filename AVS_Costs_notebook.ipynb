{
 "cells": [
  {
   "cell_type": "markdown",
   "metadata": {},
   "source": [
    "# More Food- More energy- Less water use\n",
    "\n",
    "Kyle W. Proctor, Chad W Higgins\n",
    "\n",
    "Oregon State University\n",
    "\n",
    "This Jupyter Notebook is meant to accompany the publication \"More Food- More energy- Less water use\" \n",
    "\n",
    "\n",
    "For any questions contact Kyle Proctor (proctork@oregonstate.edu)"
   ]
  },
  {
   "cell_type": "markdown",
   "metadata": {},
   "source": [
    "## Overview\n",
    "\n",
    "This reduced order economic analysis estimates the total construction, operation, and energy storage costs of wide scale implementation of Agrivoltaic Systems in the United States. Additionally, estimates are made for potential job creation, emissions reduction, and total required land area of these systems. This analysis does not consider impacts stemming from building material availability or macro economic impacts of wide scale manufacturing.\n",
    "\n",
    "The objective of the analysis is to estimate the cost to meet 20% of US electricity demand using Agrivoltaic systems. In their 2012 Renewable Futures study the National Renewable Energy Lab (NREL) projects that it is possible for the U.S. to meet 80% of total electricity demand in 2050 using renewable energy technologies, with up to  12.7% of the total generation coming from PV sources in their \"High-Demand\" scenario.  Two-thirds of the total Solar PV capacity is anticipated to come from Utility PV with the other 30% coming from rooftop PV. In the interests of an upperbound estimate we are analyzing a scenario where 20% of the total electricity demand is being met with utility PV. \n",
    "\n",
    "\n",
    "\n",
    "## General Procedure\n",
    "1) 2019 Domestic electricity production is estimated to be 4120 TWH based on the United States Energy Information Administration data ([Energy Information Administration, 2019](https://www.eia.gov/tools/faqs/faq.php?id=427&t=3#:~:text=In%202019%2C%20about%204%2C118%20billion,facilities%20in%20the%20United%20States.&text=About%2063%25%20of%20this%20electricity,%2C%20petroleum%2C%20and%20other%20gases.))\n",
    "\n",
    "2) Total required nameplate capacity is calculated using the equation\n",
    " \n",
    " \\begin{equation*} \\text{Capacity Factor} = \\frac{ \\text{Energy Generated AC}}{\\text{Time period}*\\frac{\\text{Capacity DC}}{\\text{Derate Factor}}} \\end{equation*} \n",
    " \n",
    "3) The total solar array costs is estimated assuming a cost of 2 dollars/ watt for capital expenditures and 19 / kW/ year for operation and maintence ([NREL, 2020](https://atb.nrel.gov/electricity/2020/data.php))\n",
    "\n",
    "4) Energy storage costs are calculated based on NREL lithium-ion standalone storage cost model ([Fu et al., 2018](https://www.nrel.gov/docs/fy19osti/71714.pdf))\n",
    "\n",
    "5) Potential returns are estimated assuming a constant energy price\n",
    "\n",
    "5) Total solar array area (ha) required to meet this demand is estimated based on National Renewable Energy Lab (NREL)  land use requirements ([Ong et al., 2013](https://www.nrel.gov/docs/fy13osti/56290.pdf))\n",
    "\n",
    "6) Required solar array area is doubled with the assumption that Agrivoltaic Systems will have half the panel density of traditional systems ([Dinesh and Pierce, 2016](https://www.sciencedirect.com/science/article/pii/S136403211501103X))\n",
    "\n",
    "7) All Results are reported in 2020 dollars adjusted using Consumer Price Index ([U.S. Labor Department's Bureau of Labor Statistics, 2020](https://www.bls.gov/cpi/data.htm))\n",
    "\n",
    "8) CO2 emissions are estimated by comparing emissions per kWh produced by the grid ([EIA,2020](https://www.eia.gov/tools/faqs/faq.php?id=74&t=11#:~:text=In2018%2CtotalU.S.electricity,ofCO2emissionsperkWh.)) to emissions per kWh produced from solar PV ([IPCC, 2014](https://www.ipcc.ch/report/ar5/wg2/)) \n",
    "\n",
    "9) Potential for job creation was estimated using lifecycle employement factors (person-years per GWh) from [Hondo         and Moriizumi (2017)](https://www.sciencedirect.com/science/article/pii/S1364032117306676)\n",
    "    \n",
    "    \n",
    "### Major Assumptions\n",
    "1) The grid can handle the increased solar generation\n",
    "\n",
    "2) Building resources are sufficient\n",
    "\n",
    "3) Capacity Factor for solar arrays is assumed to be 24.5 ([EIA,2020](https://www.eia.gov/electricity/monthly/epm_table_grapher.php?t=epmt_6_07_b)) \n",
    "\n",
    "4) Derate factor to convert nameplate DC capacity to AC capacity is assumed to be 0.85 ([Ong et al., 2013](https://www.nrel.gov/docs/fy13osti/56290.pdf))\n",
    "\n",
    "5) 'Average' land use requirements for Large Photovoltaic arrays are used (note this is ignoring solar variability throughout the US)\n",
    "\n",
    "6) Agrivoltaic arrays have half the panel density of traditional arrays and thus require twice the land use of traditional arrays to produce the same quantity of energy\n",
    "\n",
    "5) Only 60 MW stand alone Lithium-ion battery arrays are used for storage ([Fu et al., 2018](https://www.nrel.gov/docs/fy19osti/71714.pdf))\n",
    "\n",
    "6) Batteries and inverter are replaced every 10 years\n",
    "\n",
    "7) Macro economic impacts of large scale Agrivoltaic systems are not considered\n",
    "\n",
    "8) Yearly inflation rate of 2.5% for operation and maintenance costs \n",
    "\n",
    "9) Discount rate = 6.0 %\n",
    "    \n",
    "### Data Sources\n",
    "\n",
    "Energy Information Administration, “Annual Electric Generator Report,” 2019.  https://www.eia.gov/tools/faqs/faq.php?id=427&t=3#:~:text=In%202019%2C%20about%204%2C118%20billion,facilities%20in%20the%20United%20States.&text=About%2063%25%20of%20this%20electricity,%2C%20petroleum%2C%20and%20other%20gases.\n",
    "    \n",
    "S. Ong, C. Campbell, P. Denholm, R. Margolis, and G. Heath, “Land-Use Requirements for Solar Power Plants in the United States,” 2013.https://www.nrel.gov/docs/fy13osti/56290.pdf\n",
    "    \n",
    "R. Fu, T. Remo, and R. Margolis, “2018 U.S. Utility-Scale PhotovoltaicsPlus-Energy Storage System Costs Benchmark,” 2018. https://www.nrel.gov/docs/fy19osti/71714.pdf\n",
    "    \n",
    "H. Hondo and Y. Moriizumi, “Employment creation potential of renewable power generation technologies: A life cycle approach,” Renew. Sustain. Energy Rev., vol. 79, pp. 128–136, Nov. 2017.https://www.sciencedirect.com/science/article/pii/S1364032117306676\n",
    "    \n",
    "Energy Information Administration, “Electric Power Monthly (April 2020)” 2020.https://www.eia.gov/electricity/monthly/epm_table_grapher.php?t=epmt_6_07_b\n",
    "    \n",
    "National Renewable Energy Lab, “Annual Technology Baseline 2020,” 2020.\n",
    "    \n",
    "Harshavardhan Dinesh, Joshua Pearce. The Potential of Agrivoltaic Systems. Renewable and Sustainable Energy Reviews, Elsevier, 2016, 54, pp.299-308. ff10.1016/j.rser.2015.10.024ff. ffhal-02113575f\n",
    "\n",
    "IPCC, Climate Change 2014: Impacts, Adaptation, and Vulnerability. Part B: Regional Aspects. Contribution of Working Group II to the Fifth Assessment Report of the Intergovernmental Panel on Climate Change [Barros, V.R., C.B. Field, D.J. Dokken, M.D. Mastrandre. Cambridge, United Kingdom and New York, NY, USA: Cambridge University Press, 2014."
   ]
  },
  {
   "cell_type": "markdown",
   "metadata": {},
   "source": [
    "## How to Use this Notebook\n",
    "\n",
    "\n",
    "#### * Begin by running all cells of the notebook. This can be accomplished by selecting the Cell tab, and then selecting \"Run All\".  Then return to this point in the notebook. The default results represent the analysis shown in the journal article\n",
    "\n",
    "#### * The notebook also offers readers the opportunity to alter some of the inputs to see how the analysis differs given differing assumptions. These opportunities are highlighted by <font color='DarkOrange'> Orange Text </font> \n",
    "\n",
    "#### * Some aspects of the code which relate to formating and are not directly involved in the calculation have been hidden. To see this code click the  <font color='dodgerblue'>\"Toggle Show\"</font> buttons found throughout the notebook\n",
    "\n",
    "\n",
    "\n"
   ]
  },
  {
   "cell_type": "code",
   "execution_count": null,
   "metadata": {},
   "outputs": [],
   "source": [
    "## Install/ Import neccessary libraries\n",
    "\n",
    "import sys\n",
    "!{sys.executable} -m pip install pandas \n",
    "!{sys.executable} -m pip install numpy \n",
    "!{sys.executable} -m pip install ipywidgets\n",
    "!{sys.executable} -m pip install matplotlib\n",
    "import pandas as pd\n",
    "import numpy as np\n",
    "import ipywidgets as widgets\n",
    "import matplotlib.pyplot as plt\n",
    "from IPython.display import display\n",
    "from ipywidgets import interactive\n",
    "from ipywidgets import interact\n",
    "from ipywidgets import IntSlider\n",
    "import copy\n",
    "from IPython.display import HTML, display, Markdown\n",
    "import random\n",
    "pd.options.display.float_format = '{:,.2f}'.format\n",
    "\n",
    "display(HTML('''<style>\n",
    "    .widget-label { min-width: 20ex !important; }\n",
    "</style>'''))"
   ]
  },
  {
   "cell_type": "code",
   "execution_count": 24,
   "metadata": {},
   "outputs": [
    {
     "data": {
      "text/html": [
       "\n",
       "        <script>\n",
       "            function code_toggle_15350123625887992028() {\n",
       "                $('div.cell.code_cell.rendered.selected').find('div.input').toggle();\n",
       "            }\n",
       "\n",
       "            \n",
       "        </script>\n",
       "\n",
       "        <a href=\"javascript:code_toggle_15350123625887992028()\">Toggle show/hide</a>\n",
       "    "
      ],
      "text/plain": [
       "<IPython.core.display.HTML object>"
      ]
     },
     "execution_count": 24,
     "metadata": {},
     "output_type": "execute_result"
    }
   ],
   "source": [
    "# Function to allow for hiding code which is not immediately relevant for the calculation\n",
    "# click the \"toggle show/hide\" text to see hidden code\n",
    "\n",
    "\n",
    "def hide_toggle(for_next=False):\n",
    "    this_cell = \"\"\"$('div.cell.code_cell.rendered.selected')\"\"\"\n",
    "    next_cell = this_cell + '.next()'\n",
    "\n",
    "    toggle_text = 'Toggle show/hide'  # text shown on toggle link\n",
    "    target_cell = this_cell  # target cell to control with toggle\n",
    "    js_hide_current = ''  # bit of JS to permanently hide code in current cell (only when toggling next cell)\n",
    "\n",
    "    if for_next:\n",
    "        target_cell = next_cell\n",
    "        toggle_text += ' next cell'\n",
    "        js_hide_current = this_cell + '.find(\"div.input\").hide();'\n",
    "\n",
    "    js_f_name = 'code_toggle_{}'.format(str(random.randint(1,2**64)))\n",
    "\n",
    "    html = \"\"\"\n",
    "        <script>\n",
    "            function {f_name}() {{\n",
    "                {cell_selector}.find('div.input').toggle();\n",
    "            }}\n",
    "\n",
    "            {js_hide_current}\n",
    "        </script>\n",
    "\n",
    "        <a href=\"javascript:{f_name}()\">{toggle_text}</a>\n",
    "    \"\"\".format(\n",
    "        f_name=js_f_name,\n",
    "        cell_selector=target_cell,\n",
    "        js_hide_current=js_hide_current, \n",
    "        toggle_text=toggle_text\n",
    "    )\n",
    "\n",
    "    return HTML(html)\n",
    "\n",
    "hide_toggle()"
   ]
  },
  {
   "cell_type": "markdown",
   "metadata": {},
   "source": [
    "# Electricity Generation <span style=\"font-size:small;\"> (Procedure Step 1)</span>\n",
    "\n",
    "Total Electricity Generation in the US has remained near 4000 TWH since the beginning of the century ranging from 3740 TWH in 2001 to a high of 4180 TWH in 2018. For the purposes of this analysis the 2019 Electricity generation value of 4120 TWH was used. \n"
   ]
  },
  {
   "cell_type": "code",
   "execution_count": 4,
   "metadata": {},
   "outputs": [
    {
     "name": "stdout",
     "output_type": "stream",
     "text": [
      "2019 Electricity Generation (GWh) = 4120000\n",
      "20% of 2019 Electricity Generation (GWh) = 824000\n"
     ]
    }
   ],
   "source": [
    "Electricity_total=4.12*10**6 # Total Electricity Generated in 2019 (GWH)\n",
    "Electricity_AVS=Electricity_total*0.2 # 20% of Electricity generated in 2019, Value used for this analysis\n",
    "print('2019 Electricity Generation (GWh) = {:.0f}'.format(Electricity_total))\n",
    "print('20% of 2019 Electricity Generation (GWh) = {:.0f}'.format(Electricity_AVS))"
   ]
  },
  {
   "cell_type": "markdown",
   "metadata": {},
   "source": [
    "## <font color=\"DarkOrange\"> Assumptions can be adjusted here</font>\n",
    "### First make sure you have already run the full notebook by selecting \"Cell\" -> \"Run All\"\n",
    "\n",
    "### Adjust sliders below to the relevent values then click in the box <font color=\"DarkOrange\"> below </font> the sliders and press shift-enter \n",
    "### Make sure that the values shown correspond with what you selected \n",
    "\n",
    "#### Note: if you press shift-enter on the cell with a slider it will reset itself, be sure that the values in the output box correspond with your selection"
   ]
  },
  {
   "cell_type": "code",
   "execution_count": 25,
   "metadata": {},
   "outputs": [
    {
     "data": {
      "text/html": [
       "\n",
       "        <script>\n",
       "            function code_toggle_12624005330713085358() {\n",
       "                $('div.cell.code_cell.rendered.selected').next().find('div.input').toggle();\n",
       "            }\n",
       "\n",
       "            $('div.cell.code_cell.rendered.selected').find(\"div.input\").hide();\n",
       "        </script>\n",
       "\n",
       "        <a href=\"javascript:code_toggle_12624005330713085358()\">Toggle show/hide next cell</a>\n",
       "    "
      ],
      "text/plain": [
       "<IPython.core.display.HTML object>"
      ]
     },
     "execution_count": 25,
     "metadata": {},
     "output_type": "execute_result"
    }
   ],
   "source": [
    "hide='True'\n",
    "hide_toggle(for_next=True)"
   ]
  },
  {
   "cell_type": "code",
   "execution_count": 43,
   "metadata": {},
   "outputs": [
    {
     "name": "stdout",
     "output_type": "stream",
     "text": [
      "Adjust percent change of total electricity generation from the 2019 value of 4120 TWh\n"
     ]
    },
    {
     "data": {
      "application/vnd.jupyter.widget-view+json": {
       "model_id": "bae94a87b1034219af2c75fcb0c3db32",
       "version_major": 2,
       "version_minor": 0
      },
      "text/plain": [
       "interactive(children=(IntSlider(value=0, description='percent_increase', max=20, min=-10), Output()), _dom_cla…"
      ]
     },
     "metadata": {},
     "output_type": "display_data"
    },
    {
     "name": "stdout",
     "output_type": "stream",
     "text": [
      "\n",
      "Adjust Capacity Factor (Ratio of actual electrical output to maximate capacity)\n"
     ]
    },
    {
     "data": {
      "application/vnd.jupyter.widget-view+json": {
       "model_id": "4c33b36564fb4b1db251ccb4442f2c87",
       "version_major": 2,
       "version_minor": 0
      },
      "text/plain": [
       "interactive(children=(FloatSlider(value=0.245, description='Capacity_Factor', max=0.3, min=0.1, step=0.001), O…"
      ]
     },
     "metadata": {},
     "output_type": "display_data"
    },
    {
     "name": "stdout",
     "output_type": "stream",
     "text": [
      "\n",
      "Enter Capital expenditures in units of $ USD/Watt and Operation and Maintenance in units of $/kW/Year\n"
     ]
    },
    {
     "data": {
      "application/vnd.jupyter.widget-view+json": {
       "model_id": "90ef0d9caa9c40c890539a90d953e019",
       "version_major": 2,
       "version_minor": 0
      },
      "text/plain": [
       "Text(value='2.00', description='CAPEX ($/watt)')"
      ]
     },
     "metadata": {},
     "output_type": "display_data"
    },
    {
     "data": {
      "application/vnd.jupyter.widget-view+json": {
       "model_id": "5acb83b569e64c29aec1e0c31da1d2fe",
       "version_major": 2,
       "version_minor": 0
      },
      "text/plain": [
       "Text(value='19.00', description='O & M ($/kW/year)')"
      ]
     },
     "metadata": {},
     "output_type": "display_data"
    },
    {
     "name": "stdout",
     "output_type": "stream",
     "text": [
      "Adjust Discount Rate  (Economic Discount Rate used to calculate time value of money)\n",
      "\n",
      "Value entered as a percentage\n",
      "\n"
     ]
    },
    {
     "data": {
      "application/vnd.jupyter.widget-view+json": {
       "model_id": "2117fce808424e45b174dcc33f2b9341",
       "version_major": 2,
       "version_minor": 0
      },
      "text/plain": [
       "interactive(children=(FloatSlider(value=6.0, description='discount_rate', max=15.0, step=0.01), Output()), _do…"
      ]
     },
     "metadata": {},
     "output_type": "display_data"
    },
    {
     "name": "stdout",
     "output_type": "stream",
     "text": [
      "\n",
      "Enter Life span of solar array (determines # of years of operational costs considered)\n"
     ]
    },
    {
     "data": {
      "application/vnd.jupyter.widget-view+json": {
       "model_id": "ec8d9d0ed0244b56b0b668afcdd2585b",
       "version_major": 2,
       "version_minor": 0
      },
      "text/plain": [
       "interactive(children=(IntSlider(value=25, description='Project_life', max=40, min=15), Output()), _dom_classes…"
      ]
     },
     "metadata": {},
     "output_type": "display_data"
    },
    {
     "name": "stdout",
     "output_type": "stream",
     "text": [
      "\n",
      "Select Lithium Ion battery storage capacity\n"
     ]
    },
    {
     "data": {
      "application/vnd.jupyter.widget-view+json": {
       "model_id": "715a5d9c18bb481a8a0e9d62e8f18028",
       "version_major": 2,
       "version_minor": 0
      },
      "text/plain": [
       "Dropdown(description='Task:', index=3, options=('30 min', '1 Hour', '2 Hour', '4 Hour'), value='4 Hour')"
      ]
     },
     "metadata": {},
     "output_type": "display_data"
    },
    {
     "name": "stdout",
     "output_type": "stream",
     "text": [
      "\n",
      "Adjust Electricity price (cent/kWh), 2018 National Average = 10.53 cents/kWh\n",
      "\n",
      "2018 prices ranged from 7.71 cents/kWh in Louisiana to 29.18 cents/kWh in Hawaii\n"
     ]
    },
    {
     "data": {
      "application/vnd.jupyter.widget-view+json": {
       "model_id": "c12b0f1f1be54058bcf69efb5865eaf8",
       "version_major": 2,
       "version_minor": 0
      },
      "text/plain": [
       "interactive(children=(FloatSlider(value=10.53, description='Electricity_price', max=29.18, min=7.71, step=0.01…"
      ]
     },
     "metadata": {},
     "output_type": "display_data"
    },
    {
     "data": {
      "text/html": [
       "\n",
       "        <script>\n",
       "            function code_toggle_6354699284065820505() {\n",
       "                $('div.cell.code_cell.rendered.selected').next().find('div.input').toggle();\n",
       "            }\n",
       "\n",
       "            $('div.cell.code_cell.rendered.selected').find(\"div.input\").hide();\n",
       "        </script>\n",
       "\n",
       "        <a href=\"javascript:code_toggle_6354699284065820505()\">Toggle show/hide next cell</a>\n",
       "    "
      ],
      "text/plain": [
       "<IPython.core.display.HTML object>"
      ]
     },
     "execution_count": 43,
     "metadata": {},
     "output_type": "execute_result"
    }
   ],
   "source": [
    "#Define interactive functions\n",
    "\n",
    "# Adjust domestic electricity consumption by a percentage value\n",
    "def Electricity_Generation_increase(percent_increase):\n",
    "    update=Electricity_AVS*(1+percent_increase/100)\n",
    "    return update\n",
    "\n",
    "# adjust capacity factor\n",
    "def C_f(Capacity_Factor):\n",
    "    return Capacity_Factor\n",
    "\n",
    "#adjust array costs\n",
    "Capex=2.00\n",
    "ONM=19.00\n",
    "class Panel_Costs():\n",
    "    def __init__(self, \n",
    "                 Capex = \"{:.2f}\".format(Capex), \n",
    "                 ONM = \"{:.2f}\".format(ONM), \n",
    "                 layout = widgets.Layout(width='10px', height='40px') #set width and height\n",
    "                 \n",
    "                ):\n",
    "        self.Capex = widgets.Text(description = 'CAPEX ($/watt)',value = Capex)\n",
    "        self.ONM = widgets.Text(description = 'O & M ($/kW/year)',value = ONM)\n",
    "        \n",
    "       \n",
    "        \n",
    "        self.Capex.on_submit(self.handle_submit)\n",
    "        self.ONM .on_submit(self.handle_submit)\n",
    "       \n",
    "        display(self.Capex, self.ONM)\n",
    "        \n",
    "    def handle_submit(self, text):\n",
    "        self.v = text.value\n",
    "        return self.v\n",
    "    \n",
    "# Adjust system life    \n",
    "def syst_life(Project_life):\n",
    "    years=Project_life\n",
    "    return(years)\n",
    "\n",
    "#adjust electricity price\n",
    "def electricity_price(Electricity_price):\n",
    "    return Electricity_price\n",
    "\n",
    "#adjust discount rate \n",
    "def Discount_rate (discount_rate):\n",
    "    return (discount_rate)\n",
    "\n",
    "#adjust hours of storage \n",
    "storage_time = widgets.Dropdown(\n",
    "    options=['30 min','1 Hour','2 Hour','4 Hour'],\n",
    "    value='4 Hour',\n",
    "    description='Task:',\n",
    ")\n",
    "\n",
    "\n",
    "#Consumer Price Index from U.S. Labor Department's Bureau of Labor Statistics ( used to bring all values to 2020 dollars)\n",
    "CPIyear=np.arange(2010,2021,1)\n",
    "CPI=pd.DataFrame([218.056,224.939,229.594,232.957,236.736,237.017,240.007,245.120,251.107,255.657,257.971], columns=['Annual CPI'],index=CPIyear)\n",
    "inflationFactor_2015=CPI['Annual CPI'][2020]/CPI['Annual CPI'][2015]\n",
    "inflationFactor_2018=CPI['Annual CPI'][2020]/CPI['Annual CPI'][2018]\n",
    "\n",
    "\n",
    "# Create sliders using interactive\n",
    "Estimated_Electricity_Generation = interactive( Electricity_Generation_increase, percent_increase=widgets.IntSlider(min=-10,max=20,step=1,value=0))\n",
    "\n",
    "print(\"Adjust percent change of total electricity generation from the 2019 value of 4120 TWh\")\n",
    "display(Estimated_Electricity_Generation)\n",
    "print(\"\")\n",
    "\n",
    "print(\"Adjust Capacity Factor (Ratio of actual electrical output to maximate capacity)\")\n",
    "C_factor = interactive( C_f, Capacity_Factor=widgets.FloatSlider(min=.10,max=.30,step=.001,value=.245))\n",
    "display(C_factor)\n",
    "print(\"\")\n",
    "\n",
    "print(\"Enter Capital expenditures in units of $ USD/Watt and Operation and Maintenance in units of $/kW/Year\")\n",
    "f =Panel_Costs();\n",
    "print(\"Adjust Discount Rate  (Economic Discount Rate used to calculate time value of money)\")\n",
    "print(\"\")\n",
    "print( \"Value entered as a percentage\")\n",
    "\n",
    "print(\"\")\n",
    "d_r=interactive( Discount_rate, discount_rate=widgets.FloatSlider(min=0,max=15,step=.01,value=6))\n",
    "display(d_r) \n",
    "print(\"\")\n",
    "\n",
    "Array_lifespan = interactive( syst_life, Project_life=widgets.IntSlider(min=15,max=40,step=1,value=25))\n",
    "print('Enter Life span of solar array (determines # of years of operational costs considered)')\n",
    "display(Array_lifespan)\n",
    "print(\"\")\n",
    "\n",
    "print(\"Select Lithium Ion battery storage capacity\")\n",
    "display(storage_time)\n",
    "print(\"\")\n",
    "\n",
    "E_price = interactive( electricity_price, Electricity_price=widgets.FloatSlider(min=7.71,max=29.18,step=.01,value=10.53))\n",
    "print('Adjust Electricity price (cent/kWh), 2018 National Average = 10.53 cents/kWh')\n",
    "print('')\n",
    "print('2018 prices ranged from 7.71 cents/kWh in Louisiana to 29.18 cents/kWh in Hawaii')\n",
    "display(E_price)\n",
    "hide_toggle(for_next=True)\n",
    "\n",
    "\n",
    "hide_toggle(for_next=True)"
   ]
  },
  {
   "cell_type": "code",
   "execution_count": 44,
   "metadata": {},
   "outputs": [
    {
     "name": "stdout",
     "output_type": "stream",
     "text": [
      "                                       Adjusted Inputs \n",
      "  \n",
      "  \n",
      "Electricity Generation Value used for calculations (GWh) = 824000.00\n",
      "\n",
      "Percent increase from 2019 value = 0 %\n",
      "\n",
      "Capacity factor = 24.5 %\n",
      "\n",
      "Capital Expenditures = $2.00/Watt\n",
      "\n",
      "Operation and Maintenance = $19.00/kW/Year\n",
      "\n",
      "Discount rate = 6.0 %\n",
      "\n",
      "Project life = 25 years\n",
      "\n",
      "Lithium Ion Storage Capacity = 4 Hour\n",
      "\n",
      "Electricity Price = 10.53 cents/kWh\n"
     ]
    },
    {
     "data": {
      "text/markdown": [
       "<span style=\"font-size:x-large;\"><font color=\"DarkOrange\"> Click here after adjusting sliders and press shift-enter, check values shown in this box </font></span>"
      ],
      "text/plain": [
       "<IPython.core.display.Markdown object>"
      ]
     },
     "execution_count": 44,
     "metadata": {},
     "output_type": "execute_result"
    }
   ],
   "source": [
    "print(\"                                       Adjusted Inputs \")\n",
    "print(\"  \")\n",
    "print(\"  \")\n",
    "\n",
    "Electrcity_Generation_GWH = Estimated_Electricity_Generation.result  # current value of returned object (in this case a+b)\n",
    "print('Electricity Generation Value used for calculations (GWh) = {:.2f}'.format(Electrcity_Generation_GWH))\n",
    "print('')\n",
    "print('Percent increase from 2019 value = {} %'.format(Estimated_Electricity_Generation.children[0].value))\n",
    "\n",
    "Capacity_factor=C_factor.result\n",
    "print('')\n",
    "print('Capacity factor = {} %'.format(Capacity_factor*100))\n",
    "\n",
    "Capex= float(f.Capex.value)\n",
    "ONM=float(f.ONM.value)\n",
    "print('')\n",
    "print('Capital Expenditures = ${:.2f}/Watt'.format(Capex))\n",
    "print('')\n",
    "print('Operation and Maintenance = ${:.2f}/kW/Year'.format(ONM))\n",
    "\n",
    "Discount_rate=d_r.result/100\n",
    "print(\"\")\n",
    "print(\"Discount rate = {} %\".format(d_r.result))\n",
    "\n",
    "Project_life=Array_lifespan.result\n",
    "print('')\n",
    "print('Project life = {} years'.format(Project_life))\n",
    "\n",
    "print(\"\")\n",
    "t_stor=storage_time.value\n",
    "print(\"Lithium Ion Storage Capacity = {}\".format(t_stor))\n",
    "\n",
    "\n",
    "Energy_price=E_price.result/100 #$/kWh\n",
    "Energy_price_GWh=Energy_price*(10**6) #$/GWh\n",
    "print('')\n",
    "print('Electricity Price = {:.2f} cents/kWh'.format(E_price.result))\n",
    "\n",
    "Markdown('<span style=\"font-size:x-large;\"><font color=\"DarkOrange\"> Click here after adjusting sliders and press shift-enter, check values shown in this box </font></span>')\n",
    "\n"
   ]
  },
  {
   "cell_type": "markdown",
   "metadata": {},
   "source": [
    "<br>\n",
    "<br>\n",
    "\n",
    "## Once parameters have been adjusted you can proceed through the calculation one step at a time by pressing shift+enter or you can jump to the results by pressing \n",
    "## \"Cell\" ->\"Run All Below\"\n",
    "\n",
    "<br>\n",
    "<br>"
   ]
  },
  {
   "cell_type": "markdown",
   "metadata": {},
   "source": [
    "## Determine Required Solar Capacity <span style=\"font-size:small;\"> (Procedure Step 2)</span>\n",
    "<br><br>\n",
    "\n",
    " \\begin{equation*} \\text{Capacity Factor (%) } = \\frac{ \\text{Energy Generated AC (GWH)}}{\\text{Time period(hours)}*\\frac{\\text{Capacity DC(GW)}}{\\text{Derate Factor(%)}}} \\end{equation*} \n",
    " \n"
   ]
  },
  {
   "cell_type": "code",
   "execution_count": 45,
   "metadata": {},
   "outputs": [
    {
     "name": "stdout",
     "output_type": "stream",
     "text": [
      " When capacity factor is 24.5% required capacity is 451.7 GW\n"
     ]
    },
    {
     "data": {
      "image/png": "[encoded data removed]",
      "text/plain": [
       "<Figure size 432x288 with 1 Axes>"
      ]
     },
     "metadata": {
      "needs_background": "light"
     },
     "output_type": "display_data"
    }
   ],
   "source": [
    "derate_factor= 0.85 # converts from DC capacity to AC capacity (Ong et al, 2013)\n",
    "Current_Capacity = 60 # GW \n",
    "\n",
    "Required_Capacity_AC= Electrcity_Generation_GWH/(365*24*Capacity_factor)\n",
    "Required_Capacity= Required_Capacity_AC/derate_factor\n",
    "\n",
    "print(' When capacity factor is {}% required capacity is {:.1f} GW'.format(Capacity_factor*100,Required_Capacity))\n",
    "\n",
    "plt.bar(['Current US Capacity', ' Required Capacity '],[Current_Capacity, Required_Capacity])\n",
    "plt.ylabel(' Nameplate Capacity (GW)')\n",
    "plt.show()"
   ]
  },
  {
   "cell_type": "markdown",
   "metadata": {},
   "source": [
    "## Total Solar Array Costs <span style=\"font-size:small;\"> (Procedure Step 3)</span>\n",
    "\n",
    "In order to calculate total solar array cost a project life of 25 years is assumed. In reality solar arrays often last 25-40 years. Salvage cost is not considered. Inflation on operation and mantinence costs is considered to be constant at 2.5% .\n"
   ]
  },
  {
   "cell_type": "code",
   "execution_count": 46,
   "metadata": {},
   "outputs": [
    {
     "name": "stdout",
     "output_type": "stream",
     "text": [
      "When Capacity factor is 24.5%, Total cost to meet 20% of US electricity generation is $1.20 trillion\n"
     ]
    }
   ],
   "source": [
    "Future_inflation_rate=0.025 #2.5% \n",
    "Operating_cost_yearly=np.zeros(Project_life) #create empty array for operating costs\n",
    "\n",
    "#calculate inflation for each year in project life\n",
    "for i in range (0,Project_life):\n",
    "    Operating_cost_yearly[i]=(ONM/1000)*(Required_Capacity*10**9)*((1+Future_inflation_rate)**i)\n",
    "\n",
    "    \n",
    "Total_Operating_cost=np.sum(Operating_cost_yearly) # Total operating cost accounting for inflation\n",
    "\n",
    "Cost=Capex*(Required_Capacity*10**9)+Total_Operating_cost # Cost over life of the system\n",
    "\n",
    "\n",
    "print('When Capacity factor is {}%, Total cost to meet 20% of US electricity generation is ${:.2f} trillion'.format(Capacity_factor*100, Cost/(10**12)))\n"
   ]
  },
  {
   "cell_type": "markdown",
   "metadata": {},
   "source": [
    "# Energy Storage <span style=\"font-size:small;\"> (Procedure Step 4)</span>\n",
    "\n",
    "The variable nature of solar power makes energy storage an important component of successful grid integration at high penetrations. The optimal storage medium is often dependent on situation and climate. \n",
    " \n",
    "With this in mind and in the interest of an upper bound estimate, this reduced order estimate looks exclusively at Lithium-Ion stand alone storage systems. The values used here are from the \"2018 U.S. Utility-Scale Photovoltaics Plus-Energy Storage System Costs Benchmark\" (NREL, 2018). The study uses an NREL developed Photovoltaic Costs models to estimate costs for 30 min, 1 hour, 2 hour, and 4 hours of storage. The study assumes a 60-MW Battery array. Stand alone storage requires higher overall costs and greater land area. The study also details Co-located PV+battery systems but in the interest of an upper-bound cost estimate these systems were not considered.\n",
    "\n",
    "A battery and inverter lifespan of 10 years was assumed\n",
    "\n"
   ]
  },
  {
   "cell_type": "code",
   "execution_count": 47,
   "metadata": {},
   "outputs": [
    {
     "data": {
      "text/html": [
       "<div>\n",
       "<style scoped>\n",
       "    .dataframe tbody tr th:only-of-type {\n",
       "        vertical-align: middle;\n",
       "    }\n",
       "\n",
       "    .dataframe tbody tr th {\n",
       "        vertical-align: top;\n",
       "    }\n",
       "\n",
       "    .dataframe thead th {\n",
       "        text-align: right;\n",
       "    }\n",
       "</style>\n",
       "<table border=\"1\" class=\"dataframe\">\n",
       "  <thead>\n",
       "    <tr style=\"text-align: right;\">\n",
       "      <th></th>\n",
       "      <th>Total Energy System Cost per 60MW Battery Array (million $)</th>\n",
       "    </tr>\n",
       "  </thead>\n",
       "  <tbody>\n",
       "    <tr>\n",
       "      <td>30 min</td>\n",
       "      <td>27.58</td>\n",
       "    </tr>\n",
       "    <tr>\n",
       "      <td>1 Hour</td>\n",
       "      <td>37.04</td>\n",
       "    </tr>\n",
       "    <tr>\n",
       "      <td>2 Hour</td>\n",
       "      <td>55.95</td>\n",
       "    </tr>\n",
       "    <tr>\n",
       "      <td>4 Hour</td>\n",
       "      <td>93.78</td>\n",
       "    </tr>\n",
       "  </tbody>\n",
       "</table>\n",
       "</div>"
      ],
      "text/plain": [
       "        Total Energy System Cost per 60MW Battery Array (million $)\n",
       "30 min                                              27.58          \n",
       "1 Hour                                              37.04          \n",
       "2 Hour                                              55.95          \n",
       "4 Hour                                              93.78          "
      ]
     },
     "metadata": {},
     "output_type": "display_data"
    },
    {
     "data": {
      "text/html": [
       "<div>\n",
       "<style scoped>\n",
       "    .dataframe tbody tr th:only-of-type {\n",
       "        vertical-align: middle;\n",
       "    }\n",
       "\n",
       "    .dataframe tbody tr th {\n",
       "        vertical-align: top;\n",
       "    }\n",
       "\n",
       "    .dataframe thead th {\n",
       "        text-align: right;\n",
       "    }\n",
       "</style>\n",
       "<table border=\"1\" class=\"dataframe\">\n",
       "  <thead>\n",
       "    <tr style=\"text-align: right;\">\n",
       "      <th></th>\n",
       "      <th>Cost for US Storage (Million $)</th>\n",
       "    </tr>\n",
       "  </thead>\n",
       "  <tbody>\n",
       "    <tr>\n",
       "      <td>30 min</td>\n",
       "      <td>43,236.31</td>\n",
       "    </tr>\n",
       "    <tr>\n",
       "      <td>1 Hour</td>\n",
       "      <td>58,061.90</td>\n",
       "    </tr>\n",
       "    <tr>\n",
       "      <td>2 Hour</td>\n",
       "      <td>87,713.09</td>\n",
       "    </tr>\n",
       "    <tr>\n",
       "      <td>4 Hour</td>\n",
       "      <td>147,015.47</td>\n",
       "    </tr>\n",
       "  </tbody>\n",
       "</table>\n",
       "</div>"
      ],
      "text/plain": [
       "        Cost for US Storage (Million $)\n",
       "30 min                        43,236.31\n",
       "1 Hour                        58,061.90\n",
       "2 Hour                        87,713.09\n",
       "4 Hour                       147,015.47"
      ]
     },
     "metadata": {},
     "output_type": "display_data"
    }
   ],
   "source": [
    "# all cost estimates from NREL 2018 (https://www.nrel.gov/docs/fy19osti/71714.pdf)\n",
    "\n",
    "Battery_lifespan=10 #Assume Battery lifespan = 10 years\n",
    "Req_batt_replace=int(np.ceil((Project_life/Battery_lifespan)-1)) #determine number of times battery must be replaced\n",
    "\n",
    "# assume using 60 MW batteries \n",
    "B_capc=60/1000 # capacity of Battery Array 60 MW (0.06GW)\n",
    "\n",
    "#Total Cost for 60MW storage system\n",
    "Cost_storage=pd.DataFrame([[26845079],[36050172],[54460359],[91280733]],columns=['Total Energy System Cost per 60MW Battery Array ($)'],index=['30 min','1 Hour', '2 Hour', '4 Hour'])\n",
    "Cost_storage=Cost_storage*inflationFactor_2018 #Values from NREL 2018 report converted to 2020 dollars using CPI index\n",
    "\n",
    "# Cost for batteries & inverter ( must be replaced every ~ 10 years)\n",
    "Cost_Battery=pd.DataFrame([[6270000+4200000],[12540000+4200000],[25080000+4200000],[50160000+4200000]],columns=['Cost for Li-ion battery and Central inverter ($)'],index=['30 min','1 Hour', '2 Hour', '4 Hour'])\n",
    "Cost_Battery=Cost_Battery*inflationFactor_2018 #Values from NREL 2018 report converted to 2020 dollars using CPI index\n",
    "\n",
    "#Conversion to millions to improve readibility - not used in any calculations\n",
    "Cost_storage_mill=Cost_storage/(10**6); Cost_storage_mill.columns=['Total Energy System Cost per 60MW Battery Array (million $)'];\n",
    "display(Cost_storage_mill) # cost of storage in millions \n",
    "\n",
    "# Storage per Battery Array (GWh)\n",
    "store=pd.DataFrame([[B_capc*0.5],[B_capc],[B_capc*2],[B_capc*4]],columns=['Storage per Array - GWh'], index=['30 min','1 Hour', '2 Hour', '4 Hour'])\n",
    "\n",
    "#total energy required for storage of various lengths (GWh)\n",
    "req_store=pd.DataFrame([Electrcity_Generation_GWH/365/24/2,Electrcity_Generation_GWH/365/24,Electrcity_Generation_GWH/365/24*2,Electrcity_Generation_GWH/365/24*4],columns=['Required Storage GWh'], index=['30 min','1 Hour', '2 Hour', '4 Hour'])\n",
    "\n",
    "\n",
    "# number of battery arrays required to meet storage requirement\n",
    "\n",
    "num_battery_array=pd.DataFrame([req_store.loc['30 min'][0]/(store.loc['30 min'][0]),req_store.loc['1 Hour'][0]/store.loc['1 Hour'][0],req_store.loc['2 Hour'][0]/store.loc['2 Hour'][0],req_store.loc['4 Hour'][0]/store.loc['4 Hour'][0]],columns=['Number of 60 MW Battery Arrays Required'], index=['30 min','1 Hour', '2 Hour', '4 Hour'])\n",
    "\n",
    "\n",
    "# Storage cost = The number of battery arrays required * Cost per array\n",
    "Storage_cost=pd.DataFrame([[num_battery_array.loc['30 min'][0]*Cost_storage.loc['30 min'][0]],[num_battery_array.loc['1 Hour'][0]*Cost_storage.loc['1 Hour'][0]],[num_battery_array.loc['2 Hour'][0]*Cost_storage.loc['2 Hour'][0]],[num_battery_array.loc['4 Hour'][0]*Cost_storage.loc['4 Hour'][0]]],columns=['Cost for US Storage ($)'], index=['30 min','1 Hour', '2 Hour', '4 Hour'])\n",
    "Storage_cost_mill=Storage_cost/(10**6)\n",
    "Storage_cost_mill.columns=['Cost for US Storage (Million $)']\n",
    "\n",
    "display(Storage_cost_mill)"
   ]
  },
  {
   "cell_type": "markdown",
   "metadata": {},
   "source": [
    "## Total Cost: Array + Storage\n",
    "\n",
    "Total costs to meet 20% of 2019 electricity generation using Agrivoltaic systems is calculated as:\n",
    "\n",
    "Total Capital Expenditures + (Operating expenses * project life of array) + Total cost for storage system * ( project life of array / life span of battery)  \n",
    "\n",
    "Given the assumed array life span of 25 years and battery life span of 10 years this calcualtion assumes all batteries must be replaced twiced. \n"
   ]
  },
  {
   "cell_type": "code",
   "execution_count": 48,
   "metadata": {},
   "outputs": [
    {
     "data": {
      "text/html": [
       "<div>\n",
       "<style scoped>\n",
       "    .dataframe tbody tr th:only-of-type {\n",
       "        vertical-align: middle;\n",
       "    }\n",
       "\n",
       "    .dataframe tbody tr th {\n",
       "        vertical-align: top;\n",
       "    }\n",
       "\n",
       "    .dataframe thead th {\n",
       "        text-align: right;\n",
       "    }\n",
       "</style>\n",
       "<table border=\"1\" class=\"dataframe\">\n",
       "  <thead>\n",
       "    <tr style=\"text-align: right;\">\n",
       "      <th></th>\n",
       "      <th>US Cost for Agrivoltaic System + Storage System (Trillion $)</th>\n",
       "    </tr>\n",
       "  </thead>\n",
       "  <tbody>\n",
       "    <tr>\n",
       "      <td>30 min</td>\n",
       "      <td>1.27</td>\n",
       "    </tr>\n",
       "    <tr>\n",
       "      <td>1 Hour</td>\n",
       "      <td>1.31</td>\n",
       "    </tr>\n",
       "    <tr>\n",
       "      <td>2 Hour</td>\n",
       "      <td>1.38</td>\n",
       "    </tr>\n",
       "    <tr>\n",
       "      <td>4 Hour</td>\n",
       "      <td>1.52</td>\n",
       "    </tr>\n",
       "  </tbody>\n",
       "</table>\n",
       "</div>"
      ],
      "text/plain": [
       "         US Cost for Agrivoltaic System + Storage System (Trillion $)\n",
       "30 min                                               1.27            \n",
       "1 Hour                                               1.31            \n",
       "2 Hour                                               1.38            \n",
       "4 Hour                                               1.52            "
      ]
     },
     "metadata": {},
     "output_type": "display_data"
    }
   ],
   "source": [
    "Total_Cost=Cost+np.add(Storage_cost,(Cost_Battery*num_battery_array.loc[t_stor][0]*Req_batt_replace)) \n",
    "#add cost of array + cost of batteries&inverters * number of battery arrays * the number of times items will be replaced\n",
    "Total_Cost.columns=[' US Cost for Agrivoltaic System + Storage System ($)']\n",
    "Total_Cost_Trill=Total_Cost/(10**12)\n",
    "Total_Cost_Trill.columns=[' US Cost for Agrivoltaic System + Storage System (Trillion $)']\n",
    "display(Total_Cost_Trill)"
   ]
  },
  {
   "cell_type": "markdown",
   "metadata": {},
   "source": [
    "# Potential Returns <span style=\"font-size:small;\"> (Procedure Step 5)</span>\n",
    "\n",
    "Revenue is calculated based on the total energy produced and the price per kWh, the default calculation uses the 2018 national average of $0.1053/kWh\n",
    "\n",
    "Operation and maintenance costs are inflated yearly at a rate of 2.5%\n",
    "\n",
    "Batteries and inverters are replaced every 10 years\n",
    "\n",
    "Default discount rate is 6%\n",
    "\n",
    "\n"
   ]
  },
  {
   "cell_type": "code",
   "execution_count": 49,
   "metadata": {},
   "outputs": [
    {
     "data": {
      "text/html": [
       "\n",
       "        <script>\n",
       "            function code_toggle_17403834092490746528() {\n",
       "                $('div.cell.code_cell.rendered.selected').next().find('div.input').toggle();\n",
       "            }\n",
       "\n",
       "            $('div.cell.code_cell.rendered.selected').find(\"div.input\").hide();\n",
       "        </script>\n",
       "\n",
       "        <a href=\"javascript:code_toggle_17403834092490746528()\">Toggle show/hide next cell</a>\n",
       "    "
      ],
      "text/plain": [
       "<IPython.core.display.HTML object>"
      ]
     },
     "execution_count": 49,
     "metadata": {},
     "output_type": "execute_result"
    }
   ],
   "source": [
    "Annual_Revenue=Electrcity_Generation_GWH*Energy_price_GWh\n",
    "Total_Revenue=Annual_Revenue*Project_life\n",
    "\n",
    "hide_toggle(for_next=True)"
   ]
  },
  {
   "cell_type": "code",
   "execution_count": 50,
   "metadata": {},
   "outputs": [
    {
     "data": {
      "text/html": [
       "<div>\n",
       "<style scoped>\n",
       "    .dataframe tbody tr th:only-of-type {\n",
       "        vertical-align: middle;\n",
       "    }\n",
       "\n",
       "    .dataframe tbody tr th {\n",
       "        vertical-align: top;\n",
       "    }\n",
       "\n",
       "    .dataframe thead th {\n",
       "        text-align: right;\n",
       "    }\n",
       "</style>\n",
       "<table border=\"1\" class=\"dataframe\">\n",
       "  <thead>\n",
       "    <tr style=\"text-align: right;\">\n",
       "      <th></th>\n",
       "      <th>Year</th>\n",
       "      <th>CAPEX</th>\n",
       "      <th>O &amp; M</th>\n",
       "      <th>Storage</th>\n",
       "      <th>Revenue</th>\n",
       "      <th>Net</th>\n",
       "      <th>Cumulative</th>\n",
       "      <th>NPV</th>\n",
       "      <th>NPV Cumulative</th>\n",
       "    </tr>\n",
       "  </thead>\n",
       "  <tbody>\n",
       "    <tr>\n",
       "      <td>0</td>\n",
       "      <td>0</td>\n",
       "      <td>903,375,048,649.60</td>\n",
       "      <td>0.00</td>\n",
       "      <td>147,015,471,697.87</td>\n",
       "      <td>0.00</td>\n",
       "      <td>-1,050,390,520,347.47</td>\n",
       "      <td>-1,050,390,520,347.47</td>\n",
       "      <td>-1,050,390,520,347.47</td>\n",
       "      <td>-1,050,390,520,347.47</td>\n",
       "    </tr>\n",
       "    <tr>\n",
       "      <td>1</td>\n",
       "      <td>1</td>\n",
       "      <td>0.00</td>\n",
       "      <td>8,582,062,962.17</td>\n",
       "      <td>0.00</td>\n",
       "      <td>86,767,200,000.00</td>\n",
       "      <td>78,185,137,037.83</td>\n",
       "      <td>-972,205,383,309.64</td>\n",
       "      <td>73,759,563,243.23</td>\n",
       "      <td>-976,630,957,104.23</td>\n",
       "    </tr>\n",
       "    <tr>\n",
       "      <td>2</td>\n",
       "      <td>2</td>\n",
       "      <td>0.00</td>\n",
       "      <td>8,796,614,536.23</td>\n",
       "      <td>0.00</td>\n",
       "      <td>86,767,200,000.00</td>\n",
       "      <td>77,970,585,463.77</td>\n",
       "      <td>-894,234,797,845.86</td>\n",
       "      <td>69,393,543,488.59</td>\n",
       "      <td>-907,237,413,615.65</td>\n",
       "    </tr>\n",
       "    <tr>\n",
       "      <td>3</td>\n",
       "      <td>3</td>\n",
       "      <td>0.00</td>\n",
       "      <td>9,016,529,899.63</td>\n",
       "      <td>0.00</td>\n",
       "      <td>86,767,200,000.00</td>\n",
       "      <td>77,750,670,100.37</td>\n",
       "      <td>-816,484,127,745.49</td>\n",
       "      <td>65,280,961,884.95</td>\n",
       "      <td>-841,956,451,730.69</td>\n",
       "    </tr>\n",
       "    <tr>\n",
       "      <td>4</td>\n",
       "      <td>4</td>\n",
       "      <td>0.00</td>\n",
       "      <td>9,241,943,147.12</td>\n",
       "      <td>0.00</td>\n",
       "      <td>86,767,200,000.00</td>\n",
       "      <td>77,525,256,852.88</td>\n",
       "      <td>-738,958,870,892.61</td>\n",
       "      <td>61,407,264,694.06</td>\n",
       "      <td>-780,549,187,036.63</td>\n",
       "    </tr>\n",
       "    <tr>\n",
       "      <td>5</td>\n",
       "      <td>5</td>\n",
       "      <td>0.00</td>\n",
       "      <td>9,472,991,725.80</td>\n",
       "      <td>0.00</td>\n",
       "      <td>86,767,200,000.00</td>\n",
       "      <td>77,294,208,274.20</td>\n",
       "      <td>-661,664,662,618.41</td>\n",
       "      <td>57,758,728,848.11</td>\n",
       "      <td>-722,790,458,188.52</td>\n",
       "    </tr>\n",
       "    <tr>\n",
       "      <td>6</td>\n",
       "      <td>6</td>\n",
       "      <td>0.00</td>\n",
       "      <td>9,709,816,518.94</td>\n",
       "      <td>0.00</td>\n",
       "      <td>86,767,200,000.00</td>\n",
       "      <td>77,057,383,481.06</td>\n",
       "      <td>-584,607,279,137.36</td>\n",
       "      <td>54,322,414,703.67</td>\n",
       "      <td>-668,468,043,484.85</td>\n",
       "    </tr>\n",
       "    <tr>\n",
       "      <td>7</td>\n",
       "      <td>7</td>\n",
       "      <td>0.00</td>\n",
       "      <td>9,952,561,931.92</td>\n",
       "      <td>0.00</td>\n",
       "      <td>86,767,200,000.00</td>\n",
       "      <td>76,814,638,068.08</td>\n",
       "      <td>-507,792,641,069.28</td>\n",
       "      <td>51,086,121,477.50</td>\n",
       "      <td>-617,381,922,007.35</td>\n",
       "    </tr>\n",
       "    <tr>\n",
       "      <td>8</td>\n",
       "      <td>8</td>\n",
       "      <td>0.00</td>\n",
       "      <td>10,201,375,980.22</td>\n",
       "      <td>0.00</td>\n",
       "      <td>86,767,200,000.00</td>\n",
       "      <td>76,565,824,019.78</td>\n",
       "      <td>-431,226,817,049.49</td>\n",
       "      <td>48,038,345,211.99</td>\n",
       "      <td>-569,343,576,795.35</td>\n",
       "    </tr>\n",
       "    <tr>\n",
       "      <td>9</td>\n",
       "      <td>9</td>\n",
       "      <td>0.00</td>\n",
       "      <td>10,456,410,379.72</td>\n",
       "      <td>0.00</td>\n",
       "      <td>86,767,200,000.00</td>\n",
       "      <td>76,310,789,620.28</td>\n",
       "      <td>-354,916,027,429.22</td>\n",
       "      <td>45,168,239,127.01</td>\n",
       "      <td>-524,175,337,668.35</td>\n",
       "    </tr>\n",
       "    <tr>\n",
       "      <td>10</td>\n",
       "      <td>10</td>\n",
       "      <td>0.00</td>\n",
       "      <td>10,717,820,639.21</td>\n",
       "      <td>87,551,455,590.26</td>\n",
       "      <td>86,767,200,000.00</td>\n",
       "      <td>-11,502,076,229.48</td>\n",
       "      <td>-366,418,103,658.69</td>\n",
       "      <td>-6,422,699,290.22</td>\n",
       "      <td>-530,598,036,958.57</td>\n",
       "    </tr>\n",
       "    <tr>\n",
       "      <td>11</td>\n",
       "      <td>11</td>\n",
       "      <td>0.00</td>\n",
       "      <td>10,985,766,155.20</td>\n",
       "      <td>0.00</td>\n",
       "      <td>86,767,200,000.00</td>\n",
       "      <td>75,781,433,844.80</td>\n",
       "      <td>-290,636,669,813.89</td>\n",
       "      <td>39,920,714,005.73</td>\n",
       "      <td>-490,677,322,952.83</td>\n",
       "    </tr>\n",
       "    <tr>\n",
       "      <td>12</td>\n",
       "      <td>12</td>\n",
       "      <td>0.00</td>\n",
       "      <td>11,260,410,309.08</td>\n",
       "      <td>0.00</td>\n",
       "      <td>86,767,200,000.00</td>\n",
       "      <td>75,506,789,690.92</td>\n",
       "      <td>-215,129,880,122.97</td>\n",
       "      <td>37,524,561,218.44</td>\n",
       "      <td>-453,152,761,734.39</td>\n",
       "    </tr>\n",
       "    <tr>\n",
       "      <td>13</td>\n",
       "      <td>13</td>\n",
       "      <td>0.00</td>\n",
       "      <td>11,541,920,566.80</td>\n",
       "      <td>0.00</td>\n",
       "      <td>86,767,200,000.00</td>\n",
       "      <td>75,225,279,433.20</td>\n",
       "      <td>-139,904,600,689.77</td>\n",
       "      <td>35,268,546,457.38</td>\n",
       "      <td>-417,884,215,277.02</td>\n",
       "    </tr>\n",
       "    <tr>\n",
       "      <td>14</td>\n",
       "      <td>14</td>\n",
       "      <td>0.00</td>\n",
       "      <td>11,830,468,580.97</td>\n",
       "      <td>0.00</td>\n",
       "      <td>86,767,200,000.00</td>\n",
       "      <td>74,936,731,419.03</td>\n",
       "      <td>-64,967,869,270.74</td>\n",
       "      <td>33,144,588,574.10</td>\n",
       "      <td>-384,739,626,702.92</td>\n",
       "    </tr>\n",
       "    <tr>\n",
       "      <td>15</td>\n",
       "      <td>15</td>\n",
       "      <td>0.00</td>\n",
       "      <td>12,126,230,295.50</td>\n",
       "      <td>0.00</td>\n",
       "      <td>86,767,200,000.00</td>\n",
       "      <td>74,640,969,704.50</td>\n",
       "      <td>9,673,100,433.76</td>\n",
       "      <td>31,145,068,757.11</td>\n",
       "      <td>-353,594,557,945.81</td>\n",
       "    </tr>\n",
       "    <tr>\n",
       "      <td>16</td>\n",
       "      <td>16</td>\n",
       "      <td>0.00</td>\n",
       "      <td>12,429,386,052.88</td>\n",
       "      <td>0.00</td>\n",
       "      <td>86,767,200,000.00</td>\n",
       "      <td>74,337,813,947.12</td>\n",
       "      <td>84,010,914,380.88</td>\n",
       "      <td>29,262,804,199.61</td>\n",
       "      <td>-324,331,753,746.20</td>\n",
       "    </tr>\n",
       "    <tr>\n",
       "      <td>17</td>\n",
       "      <td>17</td>\n",
       "      <td>0.00</td>\n",
       "      <td>12,740,120,704.21</td>\n",
       "      <td>0.00</td>\n",
       "      <td>86,767,200,000.00</td>\n",
       "      <td>74,027,079,295.79</td>\n",
       "      <td>158,037,993,676.67</td>\n",
       "      <td>27,491,023,263.11</td>\n",
       "      <td>-296,840,730,483.08</td>\n",
       "    </tr>\n",
       "    <tr>\n",
       "      <td>18</td>\n",
       "      <td>18</td>\n",
       "      <td>0.00</td>\n",
       "      <td>13,058,623,721.81</td>\n",
       "      <td>0.00</td>\n",
       "      <td>86,767,200,000.00</td>\n",
       "      <td>73,708,576,278.19</td>\n",
       "      <td>231,746,569,954.86</td>\n",
       "      <td>25,823,342,052.04</td>\n",
       "      <td>-271,017,388,431.05</td>\n",
       "    </tr>\n",
       "    <tr>\n",
       "      <td>19</td>\n",
       "      <td>19</td>\n",
       "      <td>0.00</td>\n",
       "      <td>13,385,089,314.86</td>\n",
       "      <td>0.00</td>\n",
       "      <td>86,767,200,000.00</td>\n",
       "      <td>73,382,110,685.14</td>\n",
       "      <td>305,128,680,640.01</td>\n",
       "      <td>24,253,742,319.34</td>\n",
       "      <td>-246,763,646,111.71</td>\n",
       "    </tr>\n",
       "    <tr>\n",
       "      <td>20</td>\n",
       "      <td>20</td>\n",
       "      <td>0.00</td>\n",
       "      <td>13,719,716,547.73</td>\n",
       "      <td>87,551,455,590.26</td>\n",
       "      <td>86,767,200,000.00</td>\n",
       "      <td>-14,503,972,137.99</td>\n",
       "      <td>290,624,708,502.02</td>\n",
       "      <td>-4,522,407,071.25</td>\n",
       "      <td>-251,286,053,182.96</td>\n",
       "    </tr>\n",
       "    <tr>\n",
       "      <td>21</td>\n",
       "      <td>21</td>\n",
       "      <td>0.00</td>\n",
       "      <td>14,062,709,461.42</td>\n",
       "      <td>0.00</td>\n",
       "      <td>86,767,200,000.00</td>\n",
       "      <td>72,704,490,538.58</td>\n",
       "      <td>363,329,199,040.60</td>\n",
       "      <td>21,386,418,694.13</td>\n",
       "      <td>-229,899,634,488.83</td>\n",
       "    </tr>\n",
       "    <tr>\n",
       "      <td>22</td>\n",
       "      <td>22</td>\n",
       "      <td>0.00</td>\n",
       "      <td>14,414,277,197.96</td>\n",
       "      <td>0.00</td>\n",
       "      <td>86,767,200,000.00</td>\n",
       "      <td>72,352,922,802.04</td>\n",
       "      <td>435,682,121,842.64</td>\n",
       "      <td>20,078,304,853.77</td>\n",
       "      <td>-209,821,329,635.06</td>\n",
       "    </tr>\n",
       "    <tr>\n",
       "      <td>23</td>\n",
       "      <td>23</td>\n",
       "      <td>0.00</td>\n",
       "      <td>14,774,634,127.91</td>\n",
       "      <td>0.00</td>\n",
       "      <td>86,767,200,000.00</td>\n",
       "      <td>71,992,565,872.09</td>\n",
       "      <td>507,674,687,714.73</td>\n",
       "      <td>18,847,456,574.54</td>\n",
       "      <td>-190,973,873,060.52</td>\n",
       "    </tr>\n",
       "    <tr>\n",
       "      <td>24</td>\n",
       "      <td>24</td>\n",
       "      <td>0.00</td>\n",
       "      <td>15,143,999,981.10</td>\n",
       "      <td>0.00</td>\n",
       "      <td>86,767,200,000.00</td>\n",
       "      <td>71,623,200,018.90</td>\n",
       "      <td>579,297,887,733.63</td>\n",
       "      <td>17,689,393,967.71</td>\n",
       "      <td>-173,284,479,092.81</td>\n",
       "    </tr>\n",
       "    <tr>\n",
       "      <td>25</td>\n",
       "      <td>25</td>\n",
       "      <td>0.00</td>\n",
       "      <td>15,522,599,980.63</td>\n",
       "      <td>0.00</td>\n",
       "      <td>86,767,200,000.00</td>\n",
       "      <td>71,244,600,019.37</td>\n",
       "      <td>650,542,487,753.00</td>\n",
       "      <td>16,599,894,235.31</td>\n",
       "      <td>-156,684,584,857.50</td>\n",
       "    </tr>\n",
       "  </tbody>\n",
       "</table>\n",
       "</div>"
      ],
      "text/plain": [
       "    Year              CAPEX             O & M            Storage  \\\n",
       "0      0 903,375,048,649.60              0.00 147,015,471,697.87   \n",
       "1      1               0.00  8,582,062,962.17               0.00   \n",
       "2      2               0.00  8,796,614,536.23               0.00   \n",
       "3      3               0.00  9,016,529,899.63               0.00   \n",
       "4      4               0.00  9,241,943,147.12               0.00   \n",
       "5      5               0.00  9,472,991,725.80               0.00   \n",
       "6      6               0.00  9,709,816,518.94               0.00   \n",
       "7      7               0.00  9,952,561,931.92               0.00   \n",
       "8      8               0.00 10,201,375,980.22               0.00   \n",
       "9      9               0.00 10,456,410,379.72               0.00   \n",
       "10    10               0.00 10,717,820,639.21  87,551,455,590.26   \n",
       "11    11               0.00 10,985,766,155.20               0.00   \n",
       "12    12               0.00 11,260,410,309.08               0.00   \n",
       "13    13               0.00 11,541,920,566.80               0.00   \n",
       "14    14               0.00 11,830,468,580.97               0.00   \n",
       "15    15               0.00 12,126,230,295.50               0.00   \n",
       "16    16               0.00 12,429,386,052.88               0.00   \n",
       "17    17               0.00 12,740,120,704.21               0.00   \n",
       "18    18               0.00 13,058,623,721.81               0.00   \n",
       "19    19               0.00 13,385,089,314.86               0.00   \n",
       "20    20               0.00 13,719,716,547.73  87,551,455,590.26   \n",
       "21    21               0.00 14,062,709,461.42               0.00   \n",
       "22    22               0.00 14,414,277,197.96               0.00   \n",
       "23    23               0.00 14,774,634,127.91               0.00   \n",
       "24    24               0.00 15,143,999,981.10               0.00   \n",
       "25    25               0.00 15,522,599,980.63               0.00   \n",
       "\n",
       "             Revenue                   Net            Cumulative  \\\n",
       "0               0.00 -1,050,390,520,347.47 -1,050,390,520,347.47   \n",
       "1  86,767,200,000.00     78,185,137,037.83   -972,205,383,309.64   \n",
       "2  86,767,200,000.00     77,970,585,463.77   -894,234,797,845.86   \n",
       "3  86,767,200,000.00     77,750,670,100.37   -816,484,127,745.49   \n",
       "4  86,767,200,000.00     77,525,256,852.88   -738,958,870,892.61   \n",
       "5  86,767,200,000.00     77,294,208,274.20   -661,664,662,618.41   \n",
       "6  86,767,200,000.00     77,057,383,481.06   -584,607,279,137.36   \n",
       "7  86,767,200,000.00     76,814,638,068.08   -507,792,641,069.28   \n",
       "8  86,767,200,000.00     76,565,824,019.78   -431,226,817,049.49   \n",
       "9  86,767,200,000.00     76,310,789,620.28   -354,916,027,429.22   \n",
       "10 86,767,200,000.00    -11,502,076,229.48   -366,418,103,658.69   \n",
       "11 86,767,200,000.00     75,781,433,844.80   -290,636,669,813.89   \n",
       "12 86,767,200,000.00     75,506,789,690.92   -215,129,880,122.97   \n",
       "13 86,767,200,000.00     75,225,279,433.20   -139,904,600,689.77   \n",
       "14 86,767,200,000.00     74,936,731,419.03    -64,967,869,270.74   \n",
       "15 86,767,200,000.00     74,640,969,704.50      9,673,100,433.76   \n",
       "16 86,767,200,000.00     74,337,813,947.12     84,010,914,380.88   \n",
       "17 86,767,200,000.00     74,027,079,295.79    158,037,993,676.67   \n",
       "18 86,767,200,000.00     73,708,576,278.19    231,746,569,954.86   \n",
       "19 86,767,200,000.00     73,382,110,685.14    305,128,680,640.01   \n",
       "20 86,767,200,000.00    -14,503,972,137.99    290,624,708,502.02   \n",
       "21 86,767,200,000.00     72,704,490,538.58    363,329,199,040.60   \n",
       "22 86,767,200,000.00     72,352,922,802.04    435,682,121,842.64   \n",
       "23 86,767,200,000.00     71,992,565,872.09    507,674,687,714.73   \n",
       "24 86,767,200,000.00     71,623,200,018.90    579,297,887,733.63   \n",
       "25 86,767,200,000.00     71,244,600,019.37    650,542,487,753.00   \n",
       "\n",
       "                     NPV        NPV Cumulative  \n",
       "0  -1,050,390,520,347.47 -1,050,390,520,347.47  \n",
       "1      73,759,563,243.23   -976,630,957,104.23  \n",
       "2      69,393,543,488.59   -907,237,413,615.65  \n",
       "3      65,280,961,884.95   -841,956,451,730.69  \n",
       "4      61,407,264,694.06   -780,549,187,036.63  \n",
       "5      57,758,728,848.11   -722,790,458,188.52  \n",
       "6      54,322,414,703.67   -668,468,043,484.85  \n",
       "7      51,086,121,477.50   -617,381,922,007.35  \n",
       "8      48,038,345,211.99   -569,343,576,795.35  \n",
       "9      45,168,239,127.01   -524,175,337,668.35  \n",
       "10     -6,422,699,290.22   -530,598,036,958.57  \n",
       "11     39,920,714,005.73   -490,677,322,952.83  \n",
       "12     37,524,561,218.44   -453,152,761,734.39  \n",
       "13     35,268,546,457.38   -417,884,215,277.02  \n",
       "14     33,144,588,574.10   -384,739,626,702.92  \n",
       "15     31,145,068,757.11   -353,594,557,945.81  \n",
       "16     29,262,804,199.61   -324,331,753,746.20  \n",
       "17     27,491,023,263.11   -296,840,730,483.08  \n",
       "18     25,823,342,052.04   -271,017,388,431.05  \n",
       "19     24,253,742,319.34   -246,763,646,111.71  \n",
       "20     -4,522,407,071.25   -251,286,053,182.96  \n",
       "21     21,386,418,694.13   -229,899,634,488.83  \n",
       "22     20,078,304,853.77   -209,821,329,635.06  \n",
       "23     18,847,456,574.54   -190,973,873,060.52  \n",
       "24     17,689,393,967.71   -173,284,479,092.81  \n",
       "25     16,599,894,235.31   -156,684,584,857.50  "
      ]
     },
     "metadata": {},
     "output_type": "display_data"
    },
    {
     "data": {
      "text/html": [
       "\n",
       "        <script>\n",
       "            function code_toggle_11166031917427952274() {\n",
       "                $('div.cell.code_cell.rendered.selected').next().find('div.input').toggle();\n",
       "            }\n",
       "\n",
       "            $('div.cell.code_cell.rendered.selected').find(\"div.input\").hide();\n",
       "        </script>\n",
       "\n",
       "        <a href=\"javascript:code_toggle_11166031917427952274()\">Toggle show/hide next cell</a>\n",
       "    "
      ],
      "text/plain": [
       "<IPython.core.display.HTML object>"
      ]
     },
     "execution_count": 50,
     "metadata": {},
     "output_type": "execute_result"
    }
   ],
   "source": [
    "Cash_Flows_array=pd.DataFrame(np.zeros((Project_life+1,9)),columns=[ 'Year','CAPEX', 'O & M','Storage', 'Revenue', 'Net', 'Cumulative', 'NPV','NPV Cumulative'])\n",
    "Cash_Flows_array.loc[:,'Year']=np.arange(0,Project_life+1)\n",
    "Cash_Flows_array.loc[0,'CAPEX']=Capex*Required_Capacity*10**9\n",
    "Cash_Flows_array.loc[1:Project_life+1,'O & M']=Operating_cost_yearly\n",
    "Cash_Flows_array.loc[0,'Storage']=Storage_cost.loc[t_stor][0]\n",
    "for i in range(1,Req_batt_replace+1):\n",
    "    Cash_Flows_array.loc[Battery_lifespan*i,'Storage']=Cost_Battery.loc[t_stor][0]*num_battery_array.loc[t_stor][0]\n",
    "    Cash_Flows_array.loc[Battery_lifespan*i,'Storage']=Cost_Battery.loc[t_stor][0]*num_battery_array.loc[t_stor][0]\n",
    "\n",
    "Cash_Flows_array.loc[1:Project_life+1,'Revenue']=Annual_Revenue\n",
    "Cash_Flows_array.loc[0:Project_life+1,'Net']=(Cash_Flows_array.loc[0:Project_life+1,'Revenue']-(Cash_Flows_array.loc[0:Project_life+1,'CAPEX']+Cash_Flows_array.loc[0:Project_life+1,'O & M']+Cash_Flows_array.loc[0:Project_life+1,'Storage']))\n",
    "Cash_Flows_array.loc[0:Project_life+1,'NPV']=Cash_Flows_array.loc[0:Project_life+1,'Net']/(1+Discount_rate)**Cash_Flows_array.loc[0:Project_life+1,'Year']\n",
    "Cash_Flows_array.loc[0,'Cumulative']=Cash_Flows_array.loc[0,'Net']\n",
    "Cash_Flows_array.loc[0,'NPV Cumulative']=Cash_Flows_array.loc[0,'NPV']\n",
    "for i in range (1,Project_life+1):\n",
    "    Cash_Flows_array.loc[i,'Cumulative']=Cash_Flows_array.loc[i-1,'Cumulative']+Cash_Flows_array.loc[i,'Net']\n",
    "    Cash_Flows_array.loc[i,'NPV Cumulative']= Cash_Flows_array.loc[i-1,'NPV Cumulative']+Cash_Flows_array.loc[i,'NPV']\n",
    "#NPV_Rev=Total_Revenue/((1+Discount_rate)**Project_life)\n",
    "#NPV_Cost=Total_Cost.loc['4 Hour'][0]/((1+Discount_rate)**Project_life)\n",
    "#NPV_Annual_Rev=Annual_Revenue/((1+Discount_rate)**Project_life)\n",
    "\n",
    "AVS_stor_Net=Total_Revenue-Total_Cost.loc[t_stor][0]\n",
    "\n",
    "Payback_time=Total_Cost.loc[t_stor][0]/Annual_Revenue\n",
    "\n",
    "\n",
    "\n",
    "\n",
    "display(Cash_Flows_array)\n",
    "hide_toggle(for_next=True)"
   ]
  },
  {
   "cell_type": "code",
   "execution_count": 51,
   "metadata": {},
   "outputs": [
    {
     "name": "stdout",
     "output_type": "stream",
     "text": [
      "When energy price is 10.53 cents/KwH and discount rate is 6.0 % : \n",
      "\n",
      "                             Estimated Total Revenue is $2.17 Trillion USD\n",
      "\n",
      "                             Net Revenue for AV systems with 4 Hour storage is $0.65 Trillion USD\n",
      "\n",
      "                             Payback time for AV systems with 4 Hour storage is 17.50 years\n"
     ]
    }
   ],
   "source": [
    "print('When energy price is {:.2f} cents/KwH and discount rate is {} % : '.format(Energy_price*100,Discount_rate*100))\n",
    "print('')   \n",
    "print('                             Estimated Total Revenue is ${:.2f} Trillion USD'.format(Total_Revenue/(10**12)) )\n",
    "print('')\n",
    "print('                             Net Revenue for AV systems with {} storage is ${:.2f} Trillion USD'.format(t_stor,AVS_stor_Net/(10**12)) )\n",
    "print('')\n",
    "print('                             Payback time for AV systems with {} storage is {:.2f} years'.format(t_stor,Payback_time) )"
   ]
  },
  {
   "cell_type": "markdown",
   "metadata": {},
   "source": [
    "# Comparisons with US FY 2019 Budget"
   ]
  },
  {
   "cell_type": "code",
   "execution_count": 52,
   "metadata": {},
   "outputs": [
    {
     "name": "stdout",
     "output_type": "stream",
     "text": [
      "Fraction of US FY 2019 Budget required to meet 20% of US electricity Generation with AVS = 1.3 %\n",
      "\n"
     ]
    },
    {
     "data": {
      "text/html": [
       "<div>\n",
       "<style scoped>\n",
       "    .dataframe tbody tr th:only-of-type {\n",
       "        vertical-align: middle;\n",
       "    }\n",
       "\n",
       "    .dataframe tbody tr th {\n",
       "        vertical-align: top;\n",
       "    }\n",
       "\n",
       "    .dataframe thead th {\n",
       "        text-align: right;\n",
       "    }\n",
       "</style>\n",
       "<table border=\"1\" class=\"dataframe\">\n",
       "  <thead>\n",
       "    <tr style=\"text-align: right;\">\n",
       "      <th></th>\n",
       "      <th>US Budget FY 2019( Billion $)</th>\n",
       "    </tr>\n",
       "  </thead>\n",
       "  <tbody>\n",
       "    <tr>\n",
       "      <td>Government Employee Pensions (Net)</td>\n",
       "      <td>58.30</td>\n",
       "    </tr>\n",
       "    <tr>\n",
       "      <td>Agrivoltaics w/ storage</td>\n",
       "      <td>60.75</td>\n",
       "    </tr>\n",
       "    <tr>\n",
       "      <td>Other Welfare</td>\n",
       "      <td>384.50</td>\n",
       "    </tr>\n",
       "    <tr>\n",
       "      <td>Medicade</td>\n",
       "      <td>418.70</td>\n",
       "    </tr>\n",
       "    <tr>\n",
       "      <td>Medicare (Net)</td>\n",
       "      <td>651.20</td>\n",
       "    </tr>\n",
       "    <tr>\n",
       "      <td>Defense</td>\n",
       "      <td>939.40</td>\n",
       "    </tr>\n",
       "    <tr>\n",
       "      <td>All Other Spending</td>\n",
       "      <td>1,041.20</td>\n",
       "    </tr>\n",
       "    <tr>\n",
       "      <td>Social Security</td>\n",
       "      <td>1,047.00</td>\n",
       "    </tr>\n",
       "  </tbody>\n",
       "</table>\n",
       "</div>"
      ],
      "text/plain": [
       "                                    US Budget FY 2019( Billion $) \n",
       "Government Employee Pensions (Net)                           58.30\n",
       "Agrivoltaics w/ storage                                      60.75\n",
       "Other Welfare                                               384.50\n",
       "Medicade                                                    418.70\n",
       "Medicare (Net)                                              651.20\n",
       "Defense                                                     939.40\n",
       "All Other Spending                                        1,041.20\n",
       "Social Security                                           1,047.00"
      ]
     },
     "metadata": {},
     "output_type": "display_data"
    },
    {
     "data": {
      "text/plain": [
       "<matplotlib.axes._subplots.AxesSubplot at 0x7f0b51cab860>"
      ]
     },
     "execution_count": 52,
     "metadata": {},
     "output_type": "execute_result"
    },
    {
     "data": {
      "image/png": "[encoded data removed]",
      "text/plain": [
       "<Figure size 432x288 with 1 Axes>"
      ]
     },
     "metadata": {
      "needs_background": "light"
     },
     "output_type": "display_data"
    }
   ],
   "source": [
    "#FY 2019 budget\n",
    "#https://www.usgovernmentspending.com/federal_budget_detail_fy19bc62020n#usgs302\n",
    "\n",
    "AVS_Amortized=Total_Cost.loc[t_stor][0]/Project_life #AVS + storage over life of system\n",
    "Budget_2019=pd.DataFrame([[AVS_Amortized],[1047*10**9],[651.2*10**9],[418.7*10**9],[384.5*10**9],[58.3*10**9],[939.4*10**9],[1041.2*10**9]],columns=['US Budget 2020($) '],index=['Agrivoltaics w/ storage','Social Security','Medicare (Net)', 'Medicade', 'Other Welfare', 'Government Employee Pensions (Net)', 'Defense', 'All Other Spending'])\n",
    "\n",
    "Budget_total=np.sum(Budget_2019)-AVS_Amortized\n",
    "Budget_2019_Billion =Budget_2019/(10**9); Budget_2019_Billion.columns=['US Budget FY 2019( Billion $) ']\n",
    "Budget_2019_Billion=Budget_2019_Billion.sort_values('US Budget FY 2019( Billion $) ', ascending=True)\n",
    "Budget_fraction=AVS_Amortized/Budget_total*100\n",
    "print(\"Fraction of US FY 2019 Budget required to meet 20% of US electricity Generation with AVS = {:.2} %\".format(Budget_fraction[0]))\n",
    "print(\"\")\n",
    "display(Budget_2019_Billion)\n",
    "Budget_2019_Billion.plot.bar()"
   ]
  },
  {
   "cell_type": "markdown",
   "metadata": {},
   "source": [
    "# Land Requirement Data <span style=\"font-size:small;\"> (Procedure Step 6)</span>\n",
    "\n",
    "Land use data was obtained from \"Land-Use Requirements for Solar Power Plants in the United States\" (NREL, 2013). The study provides estimated required land area, both direct and indirect, for a variety of solar array types and for small (<20 Mw capacity) and large (> 20 Mw capacity) solar arrays. These values can be found in the table below. For the purposes of this study only large solar arrays were considered. The calculation used the average total area for large arrays. "
   ]
  },
  {
   "cell_type": "code",
   "execution_count": 53,
   "metadata": {},
   "outputs": [
    {
     "name": "stdout",
     "output_type": "stream",
     "text": [
      "Large Photovoltaic array (>20 MW) Area(ha)/ GWac\n"
     ]
    },
    {
     "data": {
      "text/html": [
       "<div>\n",
       "<style scoped>\n",
       "    .dataframe tbody tr th:only-of-type {\n",
       "        vertical-align: middle;\n",
       "    }\n",
       "\n",
       "    .dataframe tbody tr th {\n",
       "        vertical-align: top;\n",
       "    }\n",
       "\n",
       "    .dataframe thead th {\n",
       "        text-align: right;\n",
       "    }\n",
       "</style>\n",
       "<table border=\"1\" class=\"dataframe\">\n",
       "  <thead>\n",
       "    <tr style=\"text-align: right;\">\n",
       "      <th></th>\n",
       "      <th>Direct Area</th>\n",
       "      <th>Total Area</th>\n",
       "    </tr>\n",
       "  </thead>\n",
       "  <tbody>\n",
       "    <tr>\n",
       "      <td>Average</td>\n",
       "      <td>2,913.74</td>\n",
       "      <td>3,197.02</td>\n",
       "    </tr>\n",
       "    <tr>\n",
       "      <td>Fixed</td>\n",
       "      <td>2,347.18</td>\n",
       "      <td>3,035.14</td>\n",
       "    </tr>\n",
       "    <tr>\n",
       "      <td>1-axis</td>\n",
       "      <td>3,642.17</td>\n",
       "      <td>3,358.89</td>\n",
       "    </tr>\n",
       "    <tr>\n",
       "      <td>2-axis CPV</td>\n",
       "      <td>2,468.58</td>\n",
       "      <td>3,277.96</td>\n",
       "    </tr>\n",
       "  </tbody>\n",
       "</table>\n",
       "</div>"
      ],
      "text/plain": [
       "            Direct Area  Total Area\n",
       "Average        2,913.74    3,197.02\n",
       "Fixed          2,347.18    3,035.14\n",
       "1-axis         3,642.17    3,358.89\n",
       "2-axis CPV     2,468.58    3,277.96"
      ]
     },
     "metadata": {},
     "output_type": "display_data"
    }
   ],
   "source": [
    "#land use data from NREL 2013 study (https://www.nrel.gov/docs/fy13osti/56290.pdf)\n",
    "\n",
    "#generation Weighted average (acres/MWac)\n",
    "L_PV=pd.DataFrame([[7.2,7.9],[5.8,7.5],[9.0,8.3],[6.1,8.1]],index=['Average','Fixed','1-axis','2-axis CPV'],columns=['Direct Area','Total Area'])\n",
    "L_PV=L_PV*0.404686*10**3 # Convert acres/MWac to ha/GWac\n",
    "\n",
    "print ('Large Photovoltaic array (>20 MW) Area(ha)/ GWac')\n",
    "display(L_PV)\n"
   ]
  },
  {
   "cell_type": "markdown",
   "metadata": {},
   "source": [
    "# Calculated Land Requirements <span style=\"font-size:small;\"> (Procedure Step 7)</span>\n",
    "\n",
    "The density of Agrivolatic systems is assumed to be half that of traditional systems, thus the area values from the NREL study are doubled for this analysis. Doubling of the total area likely leads to an overestimation of the total required land but as this study aims to provide a conservative estiamte, this overestimation is considered acceptable.\n"
   ]
  },
  {
   "cell_type": "code",
   "execution_count": 54,
   "metadata": {},
   "outputs": [
    {
     "name": "stdout",
     "output_type": "stream",
     "text": [
      "Anticipated land required to meet 20% of US Electricity Generation using APV systems : 3.4e+06 ha (33977.736 km^2) (13118.817 mile^2)\n",
      "\n",
      "Aproximately 1.06 times the area of the State of Rhode Island \n",
      "\n",
      "Aproximately 0.94 % of total US Farmland\n"
     ]
    }
   ],
   "source": [
    "Area_per_GWac=L_PV['Total Area']['Average']\n",
    "Solar_land=Required_Capacity/derate_factor*Area_per_GWac #ha required to meet demand using traditional solar arrays\n",
    "AV_land=Solar_land*2 # Double required land, assuming half density of Agrivoltaic arrays for agricultural production\n",
    "print('Anticipated land required to meet 20% of US Electricity Generation using APV systems : {:.3} ha ({:.3f} km^2) ({:.3f} mile^2)'.format(AV_land, AV_land/100, AV_land/259 )) \n",
    "Area_MD=3213300 # ha\n",
    "Total_farmland = 363164895.346 #ha (from USDA Farms and Land in Farm 2019 Summary)\n",
    "\n",
    "print('')\n",
    "print ('Aproximately {:.2f} times the area of the State of Rhode Island '.format(AV_land/Area_MD))\n",
    "print('')\n",
    "print ('Aproximately {:.2f} % of total US Farmland'.format(AV_land/Total_farmland*100))"
   ]
  },
  {
   "cell_type": "markdown",
   "metadata": {},
   "source": [
    "# Land for storage\n",
    "\n",
    "The land for storage value here is considered to be the area of the individual battery continers. Additional indirect space is not accounted for. Land required for storage is orders of magnitude less than for solar arrays. "
   ]
  },
  {
   "cell_type": "code",
   "execution_count": 55,
   "metadata": {
    "scrolled": true
   },
   "outputs": [
    {
     "data": {
      "text/html": [
       "<div>\n",
       "<style scoped>\n",
       "    .dataframe tbody tr th:only-of-type {\n",
       "        vertical-align: middle;\n",
       "    }\n",
       "\n",
       "    .dataframe tbody tr th {\n",
       "        vertical-align: top;\n",
       "    }\n",
       "\n",
       "    .dataframe thead th {\n",
       "        text-align: right;\n",
       "    }\n",
       "</style>\n",
       "<table border=\"1\" class=\"dataframe\">\n",
       "  <thead>\n",
       "    <tr style=\"text-align: right;\">\n",
       "      <th></th>\n",
       "      <th>Area Required for Storage (ha)</th>\n",
       "    </tr>\n",
       "  </thead>\n",
       "  <tbody>\n",
       "    <tr>\n",
       "      <td>30 min</td>\n",
       "      <td>0.34</td>\n",
       "    </tr>\n",
       "    <tr>\n",
       "      <td>1 Hour</td>\n",
       "      <td>0.69</td>\n",
       "    </tr>\n",
       "    <tr>\n",
       "      <td>2 Hour</td>\n",
       "      <td>1.38</td>\n",
       "    </tr>\n",
       "    <tr>\n",
       "      <td>4 Hour</td>\n",
       "      <td>2.75</td>\n",
       "    </tr>\n",
       "  </tbody>\n",
       "</table>\n",
       "</div>"
      ],
      "text/plain": [
       "        Area Required for Storage (ha)\n",
       "30 min                            0.34\n",
       "1 Hour                            0.69\n",
       "2 Hour                            1.38\n",
       "4 Hour                            2.75"
      ]
     },
     "metadata": {},
     "output_type": "display_data"
    }
   ],
   "source": [
    "Bat_container=40 * 8.5 # Sq feet - Dimensions from NREL study\n",
    "Bat_container_ha=Bat_container/(9.2903*10**6) # conver to ha\n",
    "num_container=(store*1000/5) #  Number of containers per array , 1 container needed per 5 MWh storage\n",
    "num_container.columns=['Number of Containers Required per 60MW Storage system']\n",
    "\n",
    "Area_stor=pd.DataFrame([[num_battery_array.loc['30 min'][0]*num_container.loc['30 min'][0]*Bat_container_ha],[num_battery_array.loc['1 Hour'][0]*num_container.loc['1 Hour'][0]*Bat_container_ha],[num_battery_array.loc['2 Hour'][0]*num_container.loc['2 Hour'][0]*Bat_container_ha],[num_battery_array.loc['4 Hour'][0]*num_container.loc['4 Hour'][0]*Bat_container_ha]],columns=['Area Required for Storage (ha)'],index=['30 min','1 Hour', '2 Hour', '4 Hour'])\n",
    "display(Area_stor)"
   ]
  },
  {
   "cell_type": "markdown",
   "metadata": {},
   "source": [
    "## Green House Gas Emissions <span style=\"font-size:small;\"> (Procedure Step 8)</span>"
   ]
  },
  {
   "cell_type": "code",
   "execution_count": 56,
   "metadata": {},
   "outputs": [
    {
     "name": "stdout",
     "output_type": "stream",
     "text": [
      "\n",
      "Anticipated reduction of CO2 emmisions by 330470.5 Metric tons\n"
     ]
    }
   ],
   "source": [
    "Grid_CO2=449.0564 # gram CO2 per kWh (EIA- https://www.eia.gov/tools/faqs/faq.php?id=74&t=11#:~:text=In%202018%2C%20total%20U.S.%20electricity,of%20CO2%20emissions%20per%20kWh.)\n",
    "PV_CO2= 48 # gCO2eq per kWh (2014 IPCC)\n",
    "\n",
    "Carbon_reduction=Electrcity_Generation_GWH*1000*(Grid_CO2-PV_CO2)/(10**6)\n",
    "\n",
    "print(\"\")\n",
    "print('Anticipated reduction of CO2 emmisions by {:.1f} Metric tons'.format(Carbon_reduction))"
   ]
  },
  {
   "cell_type": "markdown",
   "metadata": {},
   "source": [
    "# Jobs Created <span style=\"font-size:small;\"> (Procedure Step 9)</span>\n",
    "\n",
    "In an attempt to quantify the potential jobs created by large scale implementation of Agrivoltaic systems, employment factors from Hondo and Moriizumi, 2017 were considered. Hondo and Moriizumi applied a Renewable Energy-Focused Input-Output model to determine the total employment creation potential over the lifecycle of nine different renewable energy technologies. The employment factors have the units of person-years/ GWh. \n",
    "\n",
    "For clarification: A person year refers to the amount of work done by an individual during a working year on a specific job. So for example 30 person-years could refer to a job that 30 people work on full time for year or that 15 people work on for 2 years, etc. \n",
    "\n",
    "These employment factors are broken down into both Construction and Operation, and direct and indirect employment. The specific Employment factors are shown below. For further specifics visit the Hondo and Moriizumi, 2017 publication\n"
   ]
  },
  {
   "cell_type": "code",
   "execution_count": 57,
   "metadata": {},
   "outputs": [
    {
     "data": {
      "text/html": [
       "<div>\n",
       "<style scoped>\n",
       "    .dataframe tbody tr th:only-of-type {\n",
       "        vertical-align: middle;\n",
       "    }\n",
       "\n",
       "    .dataframe tbody tr th {\n",
       "        vertical-align: top;\n",
       "    }\n",
       "\n",
       "    .dataframe thead th {\n",
       "        text-align: right;\n",
       "    }\n",
       "</style>\n",
       "<table border=\"1\" class=\"dataframe\">\n",
       "  <thead>\n",
       "    <tr style=\"text-align: right;\">\n",
       "      <th></th>\n",
       "      <th>Construction direct</th>\n",
       "      <th>Construction indirect</th>\n",
       "      <th>Operation direct</th>\n",
       "      <th>Operation indirect</th>\n",
       "      <th>Total</th>\n",
       "    </tr>\n",
       "  </thead>\n",
       "  <tbody>\n",
       "    <tr>\n",
       "      <td>Small PV</td>\n",
       "      <td>0.67</td>\n",
       "      <td>1.43</td>\n",
       "      <td>0.33</td>\n",
       "      <td>0.30</td>\n",
       "      <td>2.73</td>\n",
       "    </tr>\n",
       "    <tr>\n",
       "      <td>Large PV</td>\n",
       "      <td>0.59</td>\n",
       "      <td>1.12</td>\n",
       "      <td>0.89</td>\n",
       "      <td>0.23</td>\n",
       "      <td>2.84</td>\n",
       "    </tr>\n",
       "  </tbody>\n",
       "</table>\n",
       "</div>"
      ],
      "text/plain": [
       "          Construction direct  Construction indirect  Operation direct  \\\n",
       "Small PV                 0.67                   1.43              0.33   \n",
       "Large PV                 0.59                   1.12              0.89   \n",
       "\n",
       "          Operation indirect  Total  \n",
       "Small PV                0.30   2.73  \n",
       "Large PV                0.23   2.84  "
      ]
     },
     "metadata": {},
     "output_type": "display_data"
    },
    {
     "name": "stdout",
     "output_type": "stream",
     "text": [
      " Units = person-years/ GWh\n"
     ]
    },
    {
     "data": {
      "text/html": [
       "\n",
       "        <script>\n",
       "            function code_toggle_10644673797957315925() {\n",
       "                $('div.cell.code_cell.rendered.selected').next().find('div.input').toggle();\n",
       "            }\n",
       "\n",
       "            $('div.cell.code_cell.rendered.selected').find(\"div.input\").hide();\n",
       "        </script>\n",
       "\n",
       "        <a href=\"javascript:code_toggle_10644673797957315925()\">Toggle show/hide next cell</a>\n",
       "    "
      ],
      "text/plain": [
       "<IPython.core.display.HTML object>"
      ]
     },
     "execution_count": 57,
     "metadata": {},
     "output_type": "execute_result"
    }
   ],
   "source": [
    "#Employment factors, units = person-years/ GWh\n",
    "# data from Hondo and Moriizumi 2017, (https://www.sciencedirect.com/science/article/pii/S1364032117306676)\n",
    "Jobs=pd.DataFrame([[0.67,1.43,0.33,0.30,2.73],[0.59,1.12,0.89,0.23,2.84]],index=['Small PV','Large PV'],columns=['Construction direct','Construction indirect','Operation direct','Operation indirect','Total'])\n",
    "display(Jobs)\n",
    "print(\" Units = person-years/ GWh\")\n",
    "hide_toggle(for_next=True)"
   ]
  },
  {
   "cell_type": "code",
   "execution_count": 58,
   "metadata": {},
   "outputs": [
    {
     "name": "stdout",
     "output_type": "stream",
     "text": [
      "Anticipated life cycle jobs created by meeting 20% of US electricity generation with AV systems : 2.34 million person-years\n",
      "\n",
      "Anticipated Operation and Maintenance jobs created by meeting 20% of US electricity generation with AV systems : 0.92 million person-years\n"
     ]
    }
   ],
   "source": [
    "Jobs_LPV=Electrcity_Generation_GWH*Jobs['Total']['Large PV']\n",
    "print('Anticipated life cycle jobs created by meeting 20% of US electricity generation with AV systems : {:.2f} million person-years'.format(Jobs_LPV/(10**6)))\n",
    "print('')\n",
    "Operational_jobs_LPV=Electrcity_Generation_GWH*(Jobs['Operation direct']['Large PV']+Jobs['Operation indirect']['Large PV'])\n",
    "print('Anticipated Operation and Maintenance jobs created by meeting 20% of US electricity generation with AV systems : {:.2f} million person-years'.format(Operational_jobs_LPV/(10**6)))\n"
   ]
  },
  {
   "cell_type": "markdown",
   "metadata": {},
   "source": [
    "## Overall Results\n",
    "\n",
    "Estimated total Costs, land used, and jobs created\n"
   ]
  },
  {
   "cell_type": "code",
   "execution_count": 59,
   "metadata": {},
   "outputs": [
    {
     "data": {
      "text/html": [
       "\n",
       "        <script>\n",
       "            function code_toggle_654811435472765963() {\n",
       "                $('div.cell.code_cell.rendered.selected').next().find('div.input').toggle();\n",
       "            }\n",
       "\n",
       "            $('div.cell.code_cell.rendered.selected').find(\"div.input\").hide();\n",
       "        </script>\n",
       "\n",
       "        <a href=\"javascript:code_toggle_654811435472765963()\">Toggle show/hide next cell</a>\n",
       "    "
      ],
      "text/plain": [
       "<IPython.core.display.HTML object>"
      ]
     },
     "execution_count": 59,
     "metadata": {},
     "output_type": "execute_result"
    }
   ],
   "source": [
    "hide_toggle(for_next=True)"
   ]
  },
  {
   "cell_type": "code",
   "execution_count": 60,
   "metadata": {},
   "outputs": [
    {
     "name": "stdout",
     "output_type": "stream",
     "text": [
      "Cost to meet 2019 Electricity generation with AV systems: $ 1.20 Trillion \n",
      "\n",
      "Cost to meet 2019 Electricity generation with AV with 4 Hour storage: $ 1.52 Trillion \n",
      "\n",
      "Total land required to meet 2018 Domestic Electricity Consumption with AV with 4 Hour storage: 3.4e+06 square km\n",
      "\n",
      "Total jobs created by meeting US domestic electricity demand with AV systems : 2.34 million person-years or about 117 thousand people employed for 20 years\n",
      "\n",
      "Operation and Maintenance jobs created by meeting US domestic electricity with AV systems : 0.92 million person-years or about 46 thousand people employed for 20 years\n"
     ]
    }
   ],
   "source": [
    "print('Cost to meet 2019 Electricity generation with AV systems: $ {:.2f} Trillion '.format(Cost/(10**12)))\n",
    "print('')\n",
    "print('Cost to meet 2019 Electricity generation with AV with {} storage: $ {:.2f} Trillion '.format(t_stor,Total_Cost.loc[t_stor][0]/(10**12)))\n",
    "print('')\n",
    "print('Total land required to meet 2018 Domestic Electricity Consumption with AV with {} storage: {:.2} square km'.format(t_stor,(AV_land+ Area_stor.loc[t_stor][0]/100)))\n",
    "print('')\n",
    "print('Total jobs created by meeting US domestic electricity demand with AV systems : {:.2f} million person-years or about {:.0f} thousand people employed for 20 years'.format(Jobs_LPV/(10**6),Jobs_LPV/1000/20))\n",
    "print('')\n",
    "print('Operation and Maintenance jobs created by meeting US domestic electricity with AV systems : {:.2f} million person-years or about {:.0f} thousand people employed for 20 years'.format(Operational_jobs_LPV/(10**6),Operational_jobs_LPV/1000/20))"
   ]
  },
  {
   "cell_type": "code",
   "execution_count": null,
   "metadata": {},
   "outputs": [],
   "source": []
  }
 ],
 "metadata": {
  "kernelspec": {
   "display_name": "Python 3",
   "language": "python",
   "name": "python3"
  },
  "language_info": {
   "codemirror_mode": {
    "name": "ipython",
    "version": 3
   },
   "file_extension": ".py",
   "mimetype": "text/x-python",
   "name": "python",
   "nbconvert_exporter": "python",
   "pygments_lexer": "ipython3",
   "version": "3.6.9"
  }
 },
 "nbformat": 4,
 "nbformat_minor": 2
}
